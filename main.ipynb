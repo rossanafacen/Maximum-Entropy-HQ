{
 "cells": [
  {
   "cell_type": "code",
   "execution_count": null,
   "id": "94365925-7904-4333-9db7-5c15b3a95ae5",
   "metadata": {},
   "outputs": [],
   "source": [
    "using Fluidum\n",
    "using MaximumEntropy"
   ]
  },
  {
   "cell_type": "code",
   "execution_count": null,
   "id": "79e45783",
   "metadata": {},
   "outputs": [],
   "source": [
    "#define the grid\n",
    "rmax = 30;\n",
    "gridpoints=400;\n",
    "grid_params = Fluidum.GridParameters(rmax, gridpoints);\n",
    "\n",
    "#define the detector to use \n",
    "det = :ALICE;\n",
    "det_name = detector_dict[det].name; \n",
    "dσ_QQdy = detector_dict[det].dσ_QQdy;\n",
    "σ_in = detector_dict[det].σ_in;\n",
    "\n",
    "#centrality classes\n",
    "cent1 = 0;\n",
    "cent2 = 10;\n",
    "\n",
    "#define the initial parameters\n",
    "tspan = (0.4,12);\n",
    "Norm = 90.; \n",
    "tau0 = tspan[1];\n",
    "tau_fs = 0.1;\n",
    "rdrop = 8.5;\n",
    "initial_params = Fluidum.InitialParameters(Norm, tau0, tau_fs, rdrop);"
   ]
  },
  {
   "cell_type": "code",
   "execution_count": null,
   "id": "c1b79f28",
   "metadata": {},
   "outputs": [],
   "source": [
    "\n",
    "#take the tabulated data \n",
    "ent = TabulatedData(string(@__DIR__, \"\\\\EntropyProfile_\", det_name, \".txt\"));\n",
    "ncoll = TabulatedData(string(@__DIR__, \"\\\\NcollProfile_\", det_name, \".txt\"));\n",
    "fonll = TabulatedData(string(@__DIR__, \"\\\\FONLL_\", det_name, \".txt\"));\n"
   ]
  },
  {
   "cell_type": "code",
   "execution_count": null,
   "id": "8caa3c10",
   "metadata": {},
   "outputs": [],
   "source": [
    "fields, ccbar = initialize_fields(ent, ncoll, fonll, cent1, cent2; grid_params, initial_params, dσ_QQdy, m=1.5);\n",
    "eos = Heavy_Quark(readresonancelist(), ccbar)\n"
   ]
  },
  {
   "cell_type": "code",
   "execution_count": null,
   "id": "9f59f58d",
   "metadata": {},
   "outputs": [],
   "source": [
    "viscosity = QGPViscosity(0.1,0.2); #or, ZeroViscosity();\n",
    "bulk = SimpleBulkViscosity(0.083,15.0); #or, ZeroBulkViscosity();\n",
    "\n",
    "diffusion_Ds = HQdiffusion(0.1, 1.5);\n",
    "params_Ds=Fluidum.FluidProperties(eos,viscosity,bulk,diffusion_Ds);"
   ]
  },
  {
   "cell_type": "code",
   "execution_count": null,
   "id": "6569cd23",
   "metadata": {},
   "outputs": [],
   "source": [
    "fo_Ds = freeze_out_routine(fields.discrete_field, Fluidum.matrxi1d_visc_HQ!, params_Ds, fields.initial_field, tspan; Tfo = 0.156);\n",
    "field_results_Ds = oneshoot(fields.discrete_field, Fluidum.matrxi1d_visc_HQ!, params, fields.initial_field, tspan; reltol = 1e-8);\n"
   ]
  },
  {
   "cell_type": "code",
   "execution_count": null,
   "id": "b8c38120",
   "metadata": {},
   "outputs": [],
   "source": [
    "\n",
    "plot_fields_evolution(field_results_Ds, fields.discretization, tspan, params_Ds)\n"
   ]
  }
 ],
 "metadata": {
  "kernelspec": {
   "display_name": "Julia 1.11.3",
   "language": "julia",
   "name": "julia-1.11"
  },
  "language_info": {
   "file_extension": ".jl",
   "mimetype": "application/julia",
   "name": "julia",
   "version": "1.11.3"
  }
 },
 "nbformat": 4,
 "nbformat_minor": 5
}
