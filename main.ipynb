{
 "cells": [
  {
   "cell_type": "code",
   "execution_count": 1,
   "id": "158229e0",
   "metadata": {},
   "outputs": [
    {
     "name": "stderr",
     "output_type": "stream",
     "text": [
      "\u001b[36m\u001b[1m[ \u001b[22m\u001b[39m\u001b[36m\u001b[1mInfo: \u001b[22m\u001b[39mPrecompiling MaximumEntropy [3009f659-cc7f-4c8f-93f4-1926c60516fb] (cache misses: include_dependency fsize change (2), dep missing source (2), include_dependency fhash change (2))\n",
      "\n",
      "SYSTEM: caught exception of type :MethodError while trying to print a failed Task notice; giving up\n",
      "WARNING: Method definition distr_function(Any, Fluidum.CartesianDiscretization{N_dim, Sizes, Lengths, DXS, T} where T where DXS where Lengths where Sizes where N_dim, Any, Any) in module MaximumEntropy at c:\\Users\\rossy\\.julia\\dev\\MaximumEntropy\\src\\maximum_entropy_LF.jl:124 overwritten at c:\\Users\\rossy\\.julia\\dev\\MaximumEntropy\\src\\maximum_entropy_LF.jl:317.\n",
      "ERROR: Method overwriting is not permitted during Module precompilation. Use `__precompile__(false)` to opt-out of precompilation.\n",
      "\u001b[36m\u001b[1m┌ \u001b[22m\u001b[39m\u001b[36m\u001b[1mInfo: \u001b[22m\u001b[39mSkipping precompilation due to precompilable error. Importing MaximumEntropy [3009f659-cc7f-4c8f-93f4-1926c60516fb].\n",
      "\u001b[36m\u001b[1m└ \u001b[22m\u001b[39m  exception = Error when precompiling module, potentially caused by a __precompile__(false) declaration in the module.\n"
     ]
    }
   ],
   "source": [
    "using MaximumEntropy"
   ]
  },
  {
   "cell_type": "code",
   "execution_count": null,
   "id": "79e45783",
   "metadata": {},
   "outputs": [],
   "source": [
    "\n",
    "gpp = -u[2]^2*(g1+g2)*(mt*cosh(etap-eta))^2-2*u[1]*u[2]*(g1+g2)*mt*pt*cosh(etap-eta)*cos(phip-phi)-u[1]^2*(g1+g2)*(pt*cos(phip-phi))^2\n",
    "ur = 0.1\n",
    "etap=0.0\n",
    "phip=0.0\n",
    "m = 0.5\n",
    "mult_E=1.0\n",
    "eta = 0.0\n",
    "phi = 0.0\n",
    "        \n",
    "mult_P=1.0\n",
    "pt=2.0\n",
    "mult_shear=1.0\n",
    "g1= 0.1\n",
    "g2 =0.1\n",
    "\n",
    "\n",
    "energy_density(ur,m,mult_E,mult_P)[1]\n",
    "shear(ur,m,mult_E,mult_P,g1,g2)[1][1]\n",
    "shear(ur,m,mult_E,mult_P,g1,g2)[2][1]\n",
    "shear(ur,m,mult_E,mult_P,g1,g2)\n",
    "\n",
    "\n",
    "@show res(2)[:]\n",
    "sol1,sol2=distr_function(resultNofo1,discretization,1.0,fluidproperty)\n",
    "sol1"
   ]
  },
  {
   "cell_type": "code",
   "execution_count": null,
   "id": "e9492f4f",
   "metadata": {},
   "outputs": [],
   "source": []
  },
  {
   "cell_type": "code",
   "execution_count": null,
   "id": "89427a6f",
   "metadata": {},
   "outputs": [],
   "source": [
    "\n",
    "#define the grid\n",
    "rmax = 30;\n",
    "gridpoints=400;\n",
    "grid_params = Fluidum.GridParameters(rmax, gridpoints);\n",
    "\n",
    "#define the detector to use \n",
    "det = :ALICE;\n",
    "det_name = detector_dict[det].name; \n",
    "dσ_QQdy = detector_dict[det].dσ_QQdy;\n",
    "σ_in = detector_dict[det].σ_in;\n",
    "\n",
    "#centrality classes\n",
    "cent1 = 0;\n",
    "cent2 = 10;\n",
    "\n",
    "#define the initial parameters\n",
    "tspan = (0.4,12);\n",
    "Norm = 90.; \n",
    "tau0 = tspan[1];\n",
    "tau_fs = 0.1;\n",
    "rdrop = 8.5;\n",
    "initial_params = Fluidum.InitialParameters(Norm, tau0, tau_fs, rdrop);"
   ]
  },
  {
   "cell_type": "code",
   "execution_count": null,
   "id": "c1b79f28",
   "metadata": {},
   "outputs": [],
   "source": [
    "\n",
    "#take the tabulated data \n",
    "ent = TabulatedData(string(@__DIR__, \"\\\\EntropyProfile_\", det_name, \".txt\"));\n",
    "ncoll = TabulatedData(string(@__DIR__, \"\\\\NcollProfile_\", det_name, \".txt\"));\n",
    "fonll = TabulatedData(string(@__DIR__, \"\\\\FONLL_\", det_name, \".txt\"));\n"
   ]
  },
  {
   "cell_type": "code",
   "execution_count": null,
   "id": "8caa3c10",
   "metadata": {},
   "outputs": [],
   "source": [
    "fields, ccbar = initialize_fields(ent, ncoll, fonll, cent1, cent2; grid_params, initial_params, dσ_QQdy, m=1.5);\n",
    "eos = Heavy_Quark(readresonancelist(), ccbar)\n"
   ]
  },
  {
   "cell_type": "code",
   "execution_count": null,
   "id": "9f59f58d",
   "metadata": {},
   "outputs": [],
   "source": [
    "viscosity = QGPViscosity(0.1,0.2); #or, ZeroViscosity();\n",
    "bulk = SimpleBulkViscosity(0.083,15.0); #or, ZeroBulkViscosity();\n",
    "\n",
    "diffusion_Ds = HQdiffusion(0.1, 1.5);\n",
    "params_Ds=Fluidum.FluidProperties(eos,viscosity,bulk,diffusion_Ds);"
   ]
  },
  {
   "cell_type": "code",
   "execution_count": null,
   "id": "6569cd23",
   "metadata": {},
   "outputs": [],
   "source": [
    "fo_Ds = freeze_out_routine(fields.discrete_field, Fluidum.matrxi1d_visc_HQ!, params_Ds, fields.initial_field, tspan; Tfo = 0.156);\n",
    "field_results_Ds = oneshoot(fields.discrete_field, Fluidum.matrxi1d_visc_HQ!, params, fields.initial_field, tspan; reltol = 1e-8);\n"
   ]
  },
  {
   "cell_type": "code",
   "execution_count": null,
   "id": "b8c38120",
   "metadata": {},
   "outputs": [],
   "source": [
    "\n",
    "plot_fields_evolution(field_results_Ds, fields.discretization, tspan, params_Ds)\n"
   ]
  }
 ],
 "metadata": {
  "kernelspec": {
   "display_name": "Julia 1.12.1",
   "language": "julia",
   "name": "julia-1.12"
  },
  "language_info": {
   "file_extension": ".jl",
   "mimetype": "application/julia",
   "name": "julia",
   "version": "1.12.1"
  }
 },
 "nbformat": 4,
 "nbformat_minor": 5
}
